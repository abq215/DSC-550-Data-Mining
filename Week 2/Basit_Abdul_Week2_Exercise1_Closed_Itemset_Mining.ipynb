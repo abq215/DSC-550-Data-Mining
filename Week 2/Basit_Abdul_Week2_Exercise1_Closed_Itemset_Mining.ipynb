{
 "cells": [
  {
   "cell_type": "markdown",
   "metadata": {},
   "source": [
    "# Basit_Abdul_Week2_Exercise1_Closed_Itemset_Mining\n",
    "\n",
    "File: Basit_Abdul_Week2_Exercise1_Closed_Itemset_Mining.ipynb\n",
    "Name: Abdul Basit\n",
    "Date: 06/21/2020\n",
    "Course: DSC 550 Data Mining\n",
    "Instructor: Professor Brant Abeln\n",
    "Exercise: 2.1\n",
    "Assignment: Closed Itemset Mining\n",
    "Reference: https://www.youtube.com/watch?v=2oVMmMdeCOQ\n",
    "           https://github.com/weeklyDataScience/apriori/blob/master/apriori.py"
   ]
  },
  {
   "cell_type": "code",
   "execution_count": 1,
   "metadata": {
    "scrolled": true
   },
   "outputs": [],
   "source": [
    "import numpy as np\n",
    "import math\n",
    "import matplotlib.pyplot as plt\n",
    "import sys\n",
    "import pandas as pd\n",
    "\n",
    "\n",
    "\"\"\" This program creates the brute force algorithm for itemset mining. This algorithm is detailed on page 223 in Data Mining and Machine Learning\n",
    "\"\"\"\n",
    "\n",
    "def create_dict_from_file(filename):\n",
    "    \"\"\" Read in a file of itemsets each row is considered the transaction id and each line contains the items associated with it. This function returns a dictionary that has a key set as the tid and has values of the list of items (strings)\n",
    "    \"\"\"\n",
    "    f = open(filename, 'r')\n",
    "    d = {}\n",
    "    for tids, line_items in enumerate(f):\n",
    "           d[tids] = [j for j in line_items.split(' ')\n",
    "                           if j != '\\n']\n",
    "    return d\n",
    "\n",
    "def create_database(itemset):\n",
    "    \"Uses dummy indexing to create the binary database\"\n",
    "    return pd.Series(itemset).str.join('|').str.get_dummies()\n",
    "\n",
    "def compute_support(df, column):\n",
    "    \"Exploits the binary nature of the database\"\n",
    "    return df[column].sum()"
   ]
  },
  {
   "cell_type": "markdown",
   "metadata": {},
   "source": [
    "## Run code with minsup = 3000"
   ]
  },
  {
   "cell_type": "code",
   "execution_count": 2,
   "metadata": {},
   "outputs": [
    {
     "name": "stdout",
     "output_type": "stream",
     "text": [
      "There are 24 items with frequency greater than or equal to minsup 3000\n",
      "[1, 2, 3, 6, 10, 23, 24, 28, 34, 36, 39, 52, 53, 56, 59, 63, 67, 76, 85, 86, 90, 93, 110, 116]\n"
     ]
    }
   ],
   "source": [
    "if __name__ == '__main__':\n",
    "    # Check if the command line arguments are given\n",
    "    minsup=3000\n",
    "    filename = 'mushroom.txt'\n",
    "    dict_itemset = create_dict_from_file(filename)\n",
    "    database = create_database(dict_itemset)\n",
    "    \n",
    "    # Executes the brute force algorithm\n",
    "    # NOTE: a list comprehension is faster\n",
    "    freq_items = []\n",
    "    for col in database.columns:\n",
    "        sup = compute_support(database, col)\n",
    "        if sup >= minsup:\n",
    "            freq_items.append(int(col))\n",
    "        else:\n",
    "            pass\n",
    "\n",
    "    print('There are %d items with frequency'\\\n",
    "          ' greater than or equal to minsup 3000' % len(freq_items))\n",
    "    print(sorted(freq_items))"
   ]
  },
  {
   "cell_type": "markdown",
   "metadata": {},
   "source": [
    "## Run code with minsup = 5000"
   ]
  },
  {
   "cell_type": "code",
   "execution_count": 3,
   "metadata": {},
   "outputs": [
    {
     "name": "stdout",
     "output_type": "stream",
     "text": [
      "There are 7 items with frequency greater than or equal to minsup 5000\n",
      "[34, 36, 39, 59, 85, 86, 90]\n"
     ]
    }
   ],
   "source": [
    "if __name__ == '__main__':\n",
    "    # Check if the command line arguments are given\n",
    "    minsup=5000\n",
    "    filename = 'mushroom.txt'\n",
    "    dict_itemset = create_dict_from_file(filename)\n",
    "    database = create_database(dict_itemset)\n",
    "    \n",
    "    # Executes the brute force algorithm\n",
    "    # NOTE: a list comprehension is faster\n",
    "    freq_items = []\n",
    "    for col in database.columns:\n",
    "        sup = compute_support(database, col)\n",
    "        if sup >= minsup:\n",
    "            freq_items.append(int(col))\n",
    "        else:\n",
    "            pass\n",
    "\n",
    "    print('There are %d items with frequency'\\\n",
    "          ' greater than or equal to minsup 5000' % len(freq_items))\n",
    "    print(sorted(freq_items))"
   ]
  }
 ],
 "metadata": {
  "kernelspec": {
   "display_name": "Python 3",
   "language": "python",
   "name": "python3"
  },
  "language_info": {
   "codemirror_mode": {
    "name": "ipython",
    "version": 3
   },
   "file_extension": ".py",
   "mimetype": "text/x-python",
   "name": "python",
   "nbconvert_exporter": "python",
   "pygments_lexer": "ipython3",
   "version": "3.7.1"
  }
 },
 "nbformat": 4,
 "nbformat_minor": 2
}
